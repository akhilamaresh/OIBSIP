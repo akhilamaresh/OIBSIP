{
 "cells": [
  {
   "cell_type": "code",
   "execution_count": 1,
   "id": "e825bbec",
   "metadata": {},
   "outputs": [
    {
     "name": "stderr",
     "output_type": "stream",
     "text": [
      "C:\\Users\\akhilkrishna\\anaconda3\\lib\\site-packages\\scipy\\__init__.py:155: UserWarning: A NumPy version >=1.18.5 and <1.25.0 is required for this version of SciPy (detected version 1.26.0\n",
      "  warnings.warn(f\"A NumPy version >={np_minversion} and <{np_maxversion}\"\n"
     ]
    }
   ],
   "source": [
    "import pandas as pd\n",
    "import numpy as np\n",
    "from sklearn.linear_model import LinearRegression\n",
    "from sklearn.ensemble import BaggingRegressor\n",
    "from sklearn.tree import DecisionTreeRegressor\n",
    "from sklearn.model_selection import KFold\n",
    "from sklearn.metrics import mean_squared_error\n",
    "\n",
    "\n",
    "# Load the dataset\n",
    "df = pd.read_csv(\"C:\\\\Users\\\\akhilkrishna\\\\OneDrive\\\\Desktop\\\\mlearning.csv\")\n",
    "df1 =  pd.read_csv(\"C:\\\\Users\\\\akhilkrishna\\\\OneDrive\\\\Desktop\\\\mlearning.csv\")\n",
    "\n",
    "\n",
    "Pred_College = pd.DataFrame(df)\n",
    "\n"
   ]
  },
  {
   "cell_type": "code",
   "execution_count": 2,
   "id": "9ba4ec01",
   "metadata": {},
   "outputs": [
    {
     "data": {
      "text/plain": [
       "array([0, 1], dtype=int64)"
      ]
     },
     "execution_count": 2,
     "metadata": {},
     "output_type": "execute_result"
    }
   ],
   "source": [
    "Pred_College['institute_type'] = [0 if x == 'IIT' else 1 for x in Pred_College['institute_type']]\n",
    "Pred_College['institute_type'].unique()\n"
   ]
  },
  {
   "cell_type": "code",
   "execution_count": 3,
   "id": "ac9c2f70",
   "metadata": {},
   "outputs": [
    {
     "data": {
      "text/plain": [
       "array([0, 3, 6, 1, 2, 4, 5])"
      ]
     },
     "execution_count": 3,
     "metadata": {},
     "output_type": "execute_result"
    }
   ],
   "source": [
    "from sklearn.preprocessing import LabelEncoder\n",
    "le = LabelEncoder()\n",
    "Pred_College['quota'] = le.fit_transform(Pred_College['quota'])\n",
    "Pred_College['quota'].unique()"
   ]
  },
  {
   "cell_type": "code",
   "execution_count": 4,
   "id": "ab28e8b6",
   "metadata": {},
   "outputs": [
    {
     "data": {
      "text/plain": [
       "array([  0,  28,  31,  32,  42,  47,  51,  52,  64,  66,  67,  98, 101,\n",
       "       107, 108, 109,  14,  24,  48,  95, 126, 129,   1,   2,   4,   7,\n",
       "        37,  46,  54,  58,  59,  72,  79,  80,  83,  86, 114,  87, 104,\n",
       "       110, 116, 118, 122, 127,  20,  45,  90,  97,  18,  19,  65, 117,\n",
       "         6,  13,  57,  74,  75, 124,  29,  61,  68,  91,  15,  17,  26,\n",
       "        36,  53,  56,  76,  92, 105, 121,   5,  62,  70, 112, 115, 119,\n",
       "        33,  34,  99, 100, 120,  35,  49, 103, 111,  10,  71, 102, 106,\n",
       "         3,  60,  81,  88,   8,  16,  44,  11,  55,  50,  69,  89,  21,\n",
       "         9,  38, 113,  22,  43,  63, 128,  30,  94,  25,  39,  84, 125,\n",
       "        41,  93,  82,  78, 123,  23,  12,  77,  73,  27,  85,  96,  40])"
      ]
     },
     "execution_count": 4,
     "metadata": {},
     "output_type": "execute_result"
    }
   ],
   "source": [
    "Pred_College['program_name'] = le.fit_transform(Pred_College['program_name'])\n",
    "Pred_College['program_name'].unique()"
   ]
  },
  {
   "cell_type": "code",
   "execution_count": 5,
   "id": "754f7225",
   "metadata": {},
   "outputs": [
    {
     "data": {
      "text/plain": [
       "array([ 4,  5, 15, 14, 16, 20,  9, 11, 10,  0, 19,  1,  3, 17,  7, 21, 13,\n",
       "       22,  2,  6,  8, 12, 18, 53, 51, 52, 50, 42, 25, 34, 33, 27, 24, 28,\n",
       "       23, 29, 30, 31, 32, 39, 36, 43, 41, 44, 45, 47, 26, 35, 37, 38, 40,\n",
       "       46, 48, 49])"
      ]
     },
     "execution_count": 5,
     "metadata": {},
     "output_type": "execute_result"
    }
   ],
   "source": [
    "from sklearn.preprocessing import LabelEncoder\n",
    "\n",
    "Pred_College['institute_short'] = le.fit_transform(Pred_College['institute_short'])\n",
    "Pred_College['institute_short'].unique()\n"
   ]
  },
  {
   "cell_type": "code",
   "execution_count": 6,
   "id": "81cdbbf4",
   "metadata": {},
   "outputs": [
    {
     "data": {
      "text/plain": [
       "array([0, 1])"
      ]
     },
     "execution_count": 6,
     "metadata": {},
     "output_type": "execute_result"
    }
   ],
   "source": [
    "Pred_College['program_duration'] = le.fit_transform(Pred_College['program_duration'])\n",
    "Pred_College['program_duration'].unique()\n"
   ]
  },
  {
   "cell_type": "code",
   "execution_count": 7,
   "id": "51e2b469",
   "metadata": {},
   "outputs": [
    {
     "data": {
      "text/plain": [
       "array([ 4,  7,  5, 11,  0, 10,  1,  2,  6, 12,  3,  9,  8])"
      ]
     },
     "execution_count": 7,
     "metadata": {},
     "output_type": "execute_result"
    }
   ],
   "source": [
    "Pred_College['degree_short'] = le.fit_transform(Pred_College['degree_short'])\n",
    "Pred_College['degree_short'].unique()"
   ]
  },
  {
   "cell_type": "code",
   "execution_count": 8,
   "id": "7ef5bd6e",
   "metadata": {},
   "outputs": [
    {
     "data": {
      "text/plain": [
       "array([0, 1], dtype=int64)"
      ]
     },
     "execution_count": 8,
     "metadata": {},
     "output_type": "execute_result"
    }
   ],
   "source": [
    "Pred_College['pool'] = [0 if x == 'Gender-Neutral' else 1 for x in Pred_College['pool']]\n",
    "Pred_College['pool'].unique()\n"
   ]
  },
  {
   "cell_type": "code",
   "execution_count": 9,
   "id": "95ed14f7",
   "metadata": {},
   "outputs": [
    {
     "data": {
      "text/plain": [
       "array([0, 4, 6, 8, 3, 5, 7, 9, 1, 2])"
      ]
     },
     "execution_count": 9,
     "metadata": {},
     "output_type": "execute_result"
    }
   ],
   "source": [
    "Pred_College['category']= le.fit_transform(Pred_College['category'])\n",
    "Pred_College['category'].unique()"
   ]
  },
  {
   "cell_type": "code",
   "execution_count": 10,
   "id": "9962b814",
   "metadata": {},
   "outputs": [],
   "source": [
    "# Split the dataset into features (X) and target (y)\n",
    "X = df.drop([ 'id','opening_rank', 'closing_rank','institute_type'], axis=1)\n",
    "y_opening = df['opening_rank']\n",
    "y_closing = df['closing_rank']\n"
   ]
  },
  {
   "cell_type": "code",
   "execution_count": 11,
   "id": "eed6817b",
   "metadata": {},
   "outputs": [
    {
     "name": "stdout",
     "output_type": "stream",
     "text": [
      "Mean RMSE for Opening Ranks: 6440.790217661691\n",
      "Mean RMSE for Closing Ranks: 8777.613500692141\n"
     ]
    }
   ],
   "source": [
    "from sklearn.model_selection import KFold\n",
    "from sklearn.ensemble import BaggingRegressor\n",
    "from sklearn.tree import DecisionTreeRegressor\n",
    "from sklearn.metrics import mean_squared_error\n",
    "import numpy as np\n",
    "\n",
    "# Initialize KFold with 5 splits\n",
    "kf = KFold(n_splits=5, shuffle=True, random_state=42)\n",
    "\n",
    "# Create empty lists to store the RMSE values for each fold\n",
    "rmse_opening = []\n",
    "rmse_closing = []\n",
    "\n",
    "# Loop through the folds\n",
    "for train_index, test_index in kf.split(X):\n",
    "    X_train, X_test = X.iloc[train_index], X.iloc[test_index]\n",
    "    y_opening_train, y_opening_test = y_opening.iloc[train_index], y_opening.iloc[test_index]\n",
    "    y_closing_train, y_closing_test = y_closing.iloc[train_index], y_closing.iloc[test_index]\n",
    "    \n",
    "    # Initialize BaggingRegressor for opening ranks\n",
    "    model_opening = BaggingRegressor(base_estimator=DecisionTreeRegressor(),\n",
    "                                     n_estimators=10,\n",
    "                                     random_state=42)\n",
    "    \n",
    "    # Fit the model on the training data\n",
    "    model_opening.fit(X_train, y_opening_train)\n",
    "    \n",
    "    # Predict the opening ranks on the test data\n",
    "    y_opening_pred = model_opening.predict(X_test)\n",
    "    \n",
    "    # Calculate the RMSE for opening ranks and append to the list\n",
    "    rmse_opening.append(np.sqrt(mean_squared_error(y_opening_test, y_opening_pred)))\n",
    "    \n",
    "    # Initialize BaggingRegressor for closing ranks\n",
    "    model_closing = BaggingRegressor(base_estimator=DecisionTreeRegressor(),\n",
    "                                     n_estimators=10,\n",
    "                                     random_state=42)\n",
    "    \n",
    "    # Fit the model on the training data for closing ranks\n",
    "    model_closing.fit(X_train, y_closing_train)\n",
    "    \n",
    "    # Predict the closing ranks on the test data\n",
    "    y_closing_pred = model_closing.predict(X_test)\n",
    "    \n",
    "    # Calculate the RMSE for closing ranks and append to the list\n",
    "    rmse_closing.append(np.sqrt(mean_squared_error(y_closing_test, y_closing_pred)))\n",
    "\n",
    "# Calculate the mean RMSE for opening and closing ranks\n",
    "mean_rmse_opening = np.mean(rmse_opening)\n",
    "mean_rmse_closing = np.mean(rmse_closing)\n",
    "\n",
    "print(f'Mean RMSE for Opening Ranks: {mean_rmse_opening}')\n",
    "print(f'Mean RMSE for Closing Ranks: {mean_rmse_closing}')\n"
   ]
  },
  {
   "cell_type": "code",
   "execution_count": 12,
   "id": "b72582fd",
   "metadata": {},
   "outputs": [
    {
     "name": "stdout",
     "output_type": "stream",
     "text": [
      "R2 score for opening rank: 0.9343400666172916\n"
     ]
    }
   ],
   "source": [
    "from sklearn.metrics import r2_score\n",
    "\n",
    "r2_opening = r2_score(y_opening_test, y_opening_pred)\n",
    "print('R2 score for opening rank:', r2_opening)\n"
   ]
  },
  {
   "cell_type": "code",
   "execution_count": 13,
   "id": "3922c4d2",
   "metadata": {},
   "outputs": [
    {
     "name": "stdout",
     "output_type": "stream",
     "text": [
      "R2 score for opening rank: 0.9230886478543477\n"
     ]
    }
   ],
   "source": [
    "from sklearn.metrics import r2_score\n",
    "\n",
    "r2_closing = r2_score(y_closing_test, y_closing_pred)\n",
    "print('R2 score for opening rank:', r2_closing)\n"
   ]
  },
  {
   "cell_type": "code",
   "execution_count": null,
   "id": "3bad57d8",
   "metadata": {},
   "outputs": [],
   "source": []
  }
 ],
 "metadata": {
  "kernelspec": {
   "display_name": "Python 3 (ipykernel)",
   "language": "python",
   "name": "python3"
  },
  "language_info": {
   "codemirror_mode": {
    "name": "ipython",
    "version": 3
   },
   "file_extension": ".py",
   "mimetype": "text/x-python",
   "name": "python",
   "nbconvert_exporter": "python",
   "pygments_lexer": "ipython3",
   "version": "3.9.13"
  }
 },
 "nbformat": 4,
 "nbformat_minor": 5
}
